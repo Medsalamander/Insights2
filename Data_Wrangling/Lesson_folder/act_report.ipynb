{
 "cells": [
  {
   "cell_type": "markdown",
   "metadata": {},
   "source": [
    "## WeRateDogs Project Ananlysis Report\n",
    "\n",
    "### by Victor Obi\n",
    "\n",
    "#### September 15, 2022\n"
   ]
  },
  {
   "cell_type": "markdown",
   "metadata": {},
   "source": [
    "The 3 step data wrangling process yielded a much cleaner dataset ready for exploratory data. The final step in the process was merging the 3 dataframes using an inner join on the tweet_id column. The resulting columns include\n",
    "\n",
    "- tweet_id  \n",
    "- in_reply_to_status_id \n",
    "- in_reply_to_user_id    \n",
    "- timestamp              \n",
    "- text                   \n",
    "- expanded_urls          \n",
    "- rating_numerator       \n",
    "- rating_denominator     \n",
    "- name                   \n",
    "- date                   \n",
    "- source_trimmed         \n",
    "- total_rating           \n",
    "- dog_stage              \n",
    "- jpg_url                \n",
    "- img_num                \n",
    "- p1                     \n",
    "- p1_conf                \n",
    "- p1_dog                 \n",
    "- p2                     \n",
    "- p2_conf                \n",
    "- p2_dog                 \n",
    "- p3                     \n",
    "- p3_conf                \n",
    "- p3_dog                 \n",
    "- retweet_count          \n",
    "\n",
    "\n",
    "My analysis focused on dog names, Tweet count, Source, favorite count, Retweet count, ratings and sentiments.\n",
    "First, the dog name column is not a unique one as several dogs shared similar name. Consequently, analyzing the most popular dog name became valid as shown below.\n",
    "\n",
    "<img src=\"popular_dog_names.png\">\n",
    "\n",
    "<img src=\"popular_dog_names2.png\">\n",
    "\n",
    "\n",
    "Second, my analysis also looked at tweet volume over the time period in question. Tweet count was at an all time high between Nov to December of 2015 followed by a sharp drop afterwards. The highest daily tweet count was on 11/29 followed by 11/28 of 2015.\n",
    "\n",
    "<img src=\"tweet_time.png\">\n",
    "\n",
    "<img src=\"tweetcount_date.png\">\n",
    "\n",
    "In addition, the source column was stripped to extract the specific source. Four unique sources were identified - iphone, TweetDeck, Twitter Web Client and Vine. These reduced to 3 in the data cleaning process. Analysis shows that 98% of the tweets were made on an Iphone while tweetdeck and twitter web client contributed to 0.5% and 1.4% respectively.\n",
    "\n",
    "<img src=\"tweet_source.png\">\n",
    "\n",
    "\n",
    "A plot of retweet count and favorite count showed a positive correlation. It is also important to mention here that correlation does not mean causation. Retweet count anf favorite count both trended in the same direction.\n",
    "\n",
    "<img src=\"fav_ret.png\">\n",
    "\n",
    "Analysis of total rating showed a rating count as shown below\n",
    "\n",
    "<img src=\"rating_count.png\">\n",
    "\n",
    "Sentiment analysis shows a mean polarity score of 0.13 and median polarity of 0.05. A positive polarity indicates mostly positive comments. Mean subjectivity is 0.48  and is almost neutral on the objectivity-subjectivity scale.\n"
   ]
  }
 ],
 "metadata": {
  "kernelspec": {
   "display_name": "Python 3",
   "language": "python",
   "name": "python3"
  },
  "language_info": {
   "codemirror_mode": {
    "name": "ipython",
    "version": 3
   },
   "file_extension": ".py",
   "mimetype": "text/x-python",
   "name": "python",
   "nbconvert_exporter": "python",
   "pygments_lexer": "ipython3",
   "version": "3.8.8"
  }
 },
 "nbformat": 4,
 "nbformat_minor": 2
}
