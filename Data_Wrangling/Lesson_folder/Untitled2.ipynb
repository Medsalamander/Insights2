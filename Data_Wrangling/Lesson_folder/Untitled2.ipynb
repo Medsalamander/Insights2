{
 "cells": [
  {
   "cell_type": "code",
   "execution_count": 1,
   "id": "1c61f7f8",
   "metadata": {},
   "outputs": [],
   "source": [
    "import pandas as pd\n",
    "import numpy as np\n",
    "from textblob import TextBlob\n",
    "import matplotlib.pyplot as plt\n",
    "from nltk.corpus import stopwords"
   ]
  },
  {
   "cell_type": "code",
   "execution_count": 2,
   "id": "0413484d",
   "metadata": {},
   "outputs": [],
   "source": [
    "text1 = \"food made at the restaurant was very good\"\n",
    "blob1 = TextBlob(text1)"
   ]
  },
  {
   "cell_type": "code",
   "execution_count": 3,
   "id": "c63c21f7",
   "metadata": {},
   "outputs": [
    {
     "data": {
      "text/plain": [
       "Sentiment(polarity=0.9099999999999999, subjectivity=0.7800000000000001)"
      ]
     },
     "execution_count": 3,
     "metadata": {},
     "output_type": "execute_result"
    }
   ],
   "source": [
    "blob1.sentiment"
   ]
  },
  {
   "cell_type": "markdown",
   "id": "3753f534",
   "metadata": {},
   "source": [
    "ploraity indicates how positive or negative the comment is. Value of polarity ranges from -1 to +1\n",
    "Subjectivity relates to whether it is a public opinion or a factual information. Value ranges from 0 to 1. 1 being subjective opinion and 0 being a fact."
   ]
  },
  {
   "cell_type": "code",
   "execution_count": 4,
   "id": "dd67b873",
   "metadata": {},
   "outputs": [
    {
     "data": {
      "text/plain": [
       "Sentiment(polarity=-0.3, subjectivity=0.95)"
      ]
     },
     "execution_count": 4,
     "metadata": {},
     "output_type": "execute_result"
    }
   ],
   "source": [
    "text2 = \"flight was horrible and filled with turbulence\"\n",
    "blob2 = TextBlob(text2)\n",
    "blob2.sentiment"
   ]
  },
  {
   "cell_type": "code",
   "execution_count": 5,
   "id": "4d99c2fc",
   "metadata": {},
   "outputs": [
    {
     "data": {
      "text/plain": [
       "Sentiment(polarity=0.0, subjectivity=0.0)"
      ]
     },
     "execution_count": 5,
     "metadata": {},
     "output_type": "execute_result"
    }
   ],
   "source": [
    "text3 = \"earth revolves around the sun\"\n",
    "blob3 = TextBlob(text3)\n",
    "blob3.sentiment"
   ]
  },
  {
   "cell_type": "markdown",
   "id": "3885a65e",
   "metadata": {},
   "source": [
    "sentiment analysis on a df.\n",
    "\n",
    "polarity_score = []\n",
    "\n",
    "for i in range(0, \n"
   ]
  }
 ],
 "metadata": {
  "kernelspec": {
   "display_name": "Python 3",
   "language": "python",
   "name": "python3"
  },
  "language_info": {
   "codemirror_mode": {
    "name": "ipython",
    "version": 3
   },
   "file_extension": ".py",
   "mimetype": "text/x-python",
   "name": "python",
   "nbconvert_exporter": "python",
   "pygments_lexer": "ipython3",
   "version": "3.8.8"
  }
 },
 "nbformat": 4,
 "nbformat_minor": 5
}
