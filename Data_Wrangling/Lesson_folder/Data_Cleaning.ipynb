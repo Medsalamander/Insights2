{
 "cells": [
  {
   "cell_type": "code",
   "execution_count": null,
   "id": "3378cc98",
   "metadata": {},
   "outputs": [],
   "source": [
    "# first make a copy of each piece of data\n",
    "\n",
    "df_clean = df.copy()"
   ]
  },
  {
   "cell_type": "markdown",
   "id": "94c026d0",
   "metadata": {},
   "source": [
    "## Clean\n",
    "\n",
    "### Define - this uses action words\n",
    "\n",
    "- Remove 'bb' from every animal name using string slicing\n",
    "- Replace ! with . in body weight and brain weight columns\n",
    "\n",
    "### Code"
   ]
  },
  {
   "cell_type": "code",
   "execution_count": null,
   "id": "9df337a6",
   "metadata": {},
   "outputs": [],
   "source": [
    "# Remove 'bb' before every animal name using string slicing\n",
    "df['Animal'] = df['Animal'].str[2:]"
   ]
  },
  {
   "cell_type": "code",
   "execution_count": null,
   "id": "459d9995",
   "metadata": {},
   "outputs": [],
   "source": [
    "# Replace ! with . in body weight and brain weight columns\n",
    "df[\"Body Weight (kg)\"] = df['Body Weight (kg)'].str.replace('!', '.')\n",
    "df['Brain weight' (g)] = df['Brain weight' (g)].str.replace('!', '.')"
   ]
  },
  {
   "cell_type": "markdown",
   "id": "eacd2aa9",
   "metadata": {},
   "source": [
    "Gather\n",
    "We imported the pandas library and read the animals.csv file into a DataFrame called df.\n",
    "\n",
    "Assess\n",
    "Visual assessment was done in pandas and two quality issues were noted:\n",
    "\n",
    "bb before every animal name\n",
    "! instead of . for decimal in body weight and brain weight\n",
    "Clean\n",
    "Step 1: Define\n",
    "Defining uses verbs. It's a call to action to fix the issue we observed:\n",
    "\n",
    "Remove 'bb' before every animal name\n",
    "Replace ! with . in body weight and brain columns\n",
    "Step 2: Code\n",
    "This is actually doing the task listed in the Define step. For this course, we will use the pandas library."
   ]
  }
 ],
 "metadata": {
  "kernelspec": {
   "display_name": "Python 3",
   "language": "python",
   "name": "python3"
  },
  "language_info": {
   "codemirror_mode": {
    "name": "ipython",
    "version": 3
   },
   "file_extension": ".py",
   "mimetype": "text/x-python",
   "name": "python",
   "nbconvert_exporter": "python",
   "pygments_lexer": "ipython3",
   "version": "3.8.8"
  }
 },
 "nbformat": 4,
 "nbformat_minor": 5
}
